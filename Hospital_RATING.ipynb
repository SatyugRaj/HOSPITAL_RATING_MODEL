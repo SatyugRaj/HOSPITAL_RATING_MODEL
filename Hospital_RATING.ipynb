{
 "cells": [
  {
   "attachments": {},
   "cell_type": "markdown",
   "metadata": {},
   "source": [
    "**Evanston Hospital** is a acute healtcare facility in US, offering a wide range of services and surgerical specialities. Despite spending a considerable amount of resource on improvement of its services, the hospital's CMS rating has not changed for past 5 yrs, leading to a decline in revenue for the Hospital. The CMS ratings directly influence the choice made by consumers who are looking for a healthcare provider and hence eventually will impact the revenue of the HOSPITAL.\n",
    "**In this project we will identify the possible root causes (Root-cause Analysis) for the hospitals getting such avg ratings and also recomment some measures to sovle this problem**"
   ]
  },
  {
   "attachments": {},
   "cell_type": "markdown",
   "metadata": {},
   "source": [
    "1. As per initial information it is known that Evanston Hospital’s net profit has had a steady decline of around 7% for the last 6 quarters\n",
    "2. Number of customers and insurance companies opting for the hospital's services had declined by around 5% every year for the last 5 years.\n",
    "3. To increase the rating, the hospital’s upper management decided to invest in several new measures.Despite these changes, the hospital's rating didn't improve\n",
    "4. It was revealed that the management team at Evanston was actually unaware of which services were affecting its rating the most and the decision for which areas to invest upon was taken based on guesswork and internal discussion only."
   ]
  },
  {
   "cell_type": "code",
   "execution_count": null,
   "metadata": {},
   "outputs": [],
   "source": []
  },
  {
   "cell_type": "code",
   "execution_count": 1,
   "metadata": {},
   "outputs": [],
   "source": [
    "import pandas as pd, numpy as np"
   ]
  },
  {
   "cell_type": "code",
   "execution_count": null,
   "metadata": {},
   "outputs": [],
   "source": []
  }
 ],
 "metadata": {
  "kernelspec": {
   "display_name": "base",
   "language": "python",
   "name": "python3"
  },
  "language_info": {
   "codemirror_mode": {
    "name": "ipython",
    "version": 3
   },
   "file_extension": ".py",
   "mimetype": "text/x-python",
   "name": "python",
   "nbconvert_exporter": "python",
   "pygments_lexer": "ipython3",
   "version": "3.9.12"
  },
  "orig_nbformat": 4
 },
 "nbformat": 4,
 "nbformat_minor": 2
}
